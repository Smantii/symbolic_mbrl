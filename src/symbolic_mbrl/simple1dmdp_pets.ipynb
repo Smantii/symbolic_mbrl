{
 "cells": [
  {
   "cell_type": "code",
   "execution_count": 1,
   "id": "3a3e5422-8528-4ab9-8495-efe23fb9e0a5",
   "metadata": {
    "tags": []
   },
   "outputs": [],
   "source": [
    "from IPython import display\n",
    "%matplotlib inline\n",
    "import matplotlib as mpl\n",
    "import matplotlib.pyplot as plt\n",
    "import numpy as np\n",
    "import torch\n",
    "import omegaconf\n",
    "from gymnasium import spaces\n",
    "import gymnasium as gym\n",
    "\n",
    "\n",
    "import mbrl.models as models\n",
    "from mbrl.models import Ensemble\n",
    "import mbrl.planning as planning\n",
    "import mbrl.util.common as common_util\n",
    "import mbrl.util as util\n",
    "from pyoperon.sklearn import SymbolicRegressor\n",
    "\n",
    "\n",
    "%load_ext autoreload\n",
    "%autoreload 2\n",
    "\n",
    "mpl.rcParams.update({\"font.size\": 16})\n",
    "\n",
    "device = 'cuda:0' if torch.cuda.is_available() else 'cpu'"
   ]
  },
  {
   "cell_type": "code",
   "execution_count": 2,
   "id": "82e751ff-3f48-49a4-b102-bdd60e6554f9",
   "metadata": {
    "tags": []
   },
   "outputs": [],
   "source": [
    "def term_fn(a, next_obs):\n",
    "    #threshold = 10\n",
    "    #not_done = (next_obs > -threshold)* (next_obs < threshold)\n",
    "    #done = ~not_done\n",
    "    #done = done[:, None]\n",
    "    return False\n",
    "\n",
    "def reward_fn(a, next_obs):\n",
    "    return torch.cos(2 * torch.pi * next_obs) * torch.exp(torch.abs(next_obs) / 3)"
   ]
  },
  {
   "cell_type": "code",
   "execution_count": 536,
   "id": "bcf1bf24-6afd-45dd-9c2d-0d963240493c",
   "metadata": {
    "tags": []
   },
   "outputs": [],
   "source": [
    "class Simple1DMDP(gym.Env):\n",
    "    def __init__(self):\n",
    "        super(Simple1DMDP, self).__init__()\n",
    "        \n",
    "        # define the action space\n",
    "        self.action_space = spaces.Box(low=-1, high=1, shape=(1,), dtype=np.float32)\n",
    "        \n",
    "        # define the observation space: continuous single dimension for position\n",
    "        self.observation_space = spaces.Box(low=-10, high=10, shape=(1,), dtype=np.float32)\n",
    "        # Initialize state and episode length\n",
    "        self.state = 0.0\n",
    "        self.episode_length = 10\n",
    "        self.current_step = 0\n",
    "\n",
    "    def reset(self, seed=None):\n",
    "        # reset the state to 0 and the step counter\n",
    "        self.state = 0.0\n",
    "        self.current_step = 0\n",
    "        return torch.FloatTensor([self.state]), {}\n",
    "\n",
    "    def step(self, action):  \n",
    "        # update state based on action\n",
    "        self.state += action\n",
    "        # clip in the case we go outside of [-10,10]\n",
    "        # set truncated parameter\n",
    "        truncated = np.abs(self.state) > 10\n",
    "        self.state = np.clip(self.state, -10.,10.)\n",
    "        \n",
    "        # calculate reward\n",
    "        #reward = torch.cos(2 * torch.pi * self.state) * torch.exp(torch.abs(self.state) / 3)\n",
    "        reward = reward_fn(torch.from_numpy(action), torch.from_numpy(self.state))\n",
    "        # increment step counter\n",
    "        self.current_step += 1\n",
    "        # check if episode is terminated\n",
    "        terminated = self.current_step >= self.episode_length\n",
    "        \n",
    "        # set placeholder for info\n",
    "        info = {}\n",
    "        return torch.FloatTensor([self.state]).flatten(), reward, terminated, truncated, info\n",
    "\n",
    "    def render(self, mode='human'):\n",
    "        # simple print rendering\n",
    "        print(f\"Step: {self.current_step}, State: {self.state}\")"
   ]
  },
  {
   "cell_type": "code",
   "execution_count": 537,
   "id": "40e84fe0-55a9-4f85-9713-7cb10a595c53",
   "metadata": {
    "tags": []
   },
   "outputs": [],
   "source": [
    "class SymbolicModel(Ensemble):\n",
    "    def __init__(self, symbols, population_size, generations, max_length, max_depth, in_size, out_size,\n",
    "                num_members, device, propagation_method, deterministic):\n",
    "        super().__init__(num_members, device, propagation_method, deterministic)\n",
    "        self.in_size = in_size\n",
    "        self.out_size = out_size\n",
    "        self.reg = SymbolicRegressor(population_size = population_size,\n",
    "                                     allowed_symbols=symbols,\n",
    "                                     optimizer_iterations=10,\n",
    "                                     generations = generations,\n",
    "                                     n_threads=32,\n",
    "                                     max_length = max_length,\n",
    "                                     max_depth=max_depth,\n",
    "                                     epsilon=0)\n",
    "    def forward(self, x, rng, propagation_indices):\n",
    "        next_obs= x[:,0] + x[:,1]\n",
    "        reward = self.reg.predict(x)\n",
    "        preds = np.vstack((next_obs, reward)).T\n",
    "        return torch.from_numpy(preds), None\n",
    "    \n",
    "    def loss(self, model_in, target):\n",
    "        return self.reg.score(model_in, target)\n",
    "    \n",
    "    def eval_score(self, model_in, target):\n",
    "        return self.reg.score(model_in, target)\n",
    "    \n",
    "    def sample_propagation_indices(\n",
    "        self, batch_size: int, _rng: torch.Generator) -> torch.Tensor:\n",
    "        model_len = num_members\n",
    "        if batch_size % model_len != 0:\n",
    "            raise ValueError(\n",
    "                \"To use SymbolicModel's ensemble propagation, the batch size must \"\n",
    "                \"be a multiple of the number of models in the ensemble.\"\n",
    "            )\n",
    "        # rng causes segmentation fault, see https://github.com/pytorch/pytorch/issues/44714\n",
    "        return torch.randperm(batch_size, device=self.device)"
   ]
  },
  {
   "cell_type": "code",
   "execution_count": 539,
   "id": "9748292f-29b1-4727-bbc3-d38a6a69e2b9",
   "metadata": {
    "tags": []
   },
   "outputs": [],
   "source": [
    "# Register the custom environment\n",
    "gym.envs.registration.register(\n",
    "    id='Simple1DMDP-v0',\n",
    "    entry_point=Simple1DMDP\n",
    ")\n",
    "\n",
    "\n",
    "env = gym.make('Simple1DMDP-v0')"
   ]
  },
  {
   "cell_type": "code",
   "execution_count": 541,
   "id": "60d27669-573d-4891-91cf-b6730febed6b",
   "metadata": {
    "tags": []
   },
   "outputs": [],
   "source": [
    "seed = 0\n",
    "env.reset()\n",
    "rng = np.random.default_rng(seed=seed)\n",
    "generator = torch.Generator(device=device)\n",
    "generator.manual_seed(seed)\n",
    "obs_shape = env.observation_space.shape\n",
    "act_shape = env.action_space.shape"
   ]
  },
  {
   "cell_type": "code",
   "execution_count": 542,
   "id": "f8de040d-2a44-4738-8483-8d994882c525",
   "metadata": {
    "tags": []
   },
   "outputs": [],
   "source": [
    "# Neural Network\n",
    "\n",
    "trial_length = 500\n",
    "num_trials = 10\n",
    "ensemble_size = 7\n",
    "\n",
    "# Everything with \"???\" indicates an option with a missing value.\n",
    "# Our utility functions will fill in these details using the \n",
    "# environment information\n",
    "cfg_dict = {\n",
    "    # dynamics model configuration\n",
    "    \"dynamics_model\": {\n",
    "        \"_target_\": \"mbrl.models.GaussianMLP\",\n",
    "        \"device\": device,\n",
    "        \"num_layers\": 4,\n",
    "        \"ensemble_size\": ensemble_size,\n",
    "        \"hid_size\": 200,\n",
    "        \"in_size\": \"???\",\n",
    "        \"out_size\": \"???\",\n",
    "        \"deterministic\": True,\n",
    "        \"propagation_method\": \"fixed_model\",\n",
    "        # can also configure activation function for GaussianMLP\n",
    "        \"activation_fn_cfg\": {\n",
    "            \"_target_\": \"torch.nn.SiLU\"}\n",
    "    },\n",
    "    # options for training the dynamics model\n",
    "    \"algorithm\": {\n",
    "        \"learned_rewards\": True,\n",
    "        \"target_is_delta\": True,\n",
    "        \"normalize\": True,\n",
    "    },\n",
    "    # these are experiment specific options\n",
    "    \"overrides\": {\n",
    "        \"trial_length\": trial_length,\n",
    "        \"num_steps\": num_trials * trial_length,\n",
    "        \"model_batch_size\": 1,\n",
    "        \"validation_ratio\": 0.05\n",
    "    }\n",
    "}\n",
    "cfg = omegaconf.OmegaConf.create(cfg_dict)"
   ]
  },
  {
   "cell_type": "code",
   "execution_count": 543,
   "id": "642f9b2c-3c79-45ff-9f84-a327f817bf3f",
   "metadata": {
    "tags": []
   },
   "outputs": [],
   "source": [
    "# Symbolic Regression\n",
    "\n",
    "trial_length = 500\n",
    "num_trials = 10\n",
    "ensemble_size = 1\n",
    "\n",
    "device = \"cpu\"\n",
    "\n",
    "# Everything with \"???\" indicates an option with a missing value.\n",
    "# Our utility functions will fill in these details using the \n",
    "# environment information\n",
    "cfg_dict = {\n",
    "    # dynamics model configuration\n",
    "    \"dynamics_model\": {\n",
    "        \"_target_\": \"__main__.SymbolicModel\",\n",
    "        \"symbols\": \"add,sub,mul,div,constant,variable,sin,exp,abs\",\n",
    "        \"population_size\": 5000,\n",
    "        \"generations\": 10000,\n",
    "        \"max_length\": 30,\n",
    "        \"max_depth\": 10,\n",
    "        \"in_size\": \"???\",\n",
    "        \"out_size\": \"???\",\n",
    "        \"device\": device,\n",
    "        \"deterministic\": True,\n",
    "        \"propagation_method\": None,\n",
    "        \"num_members\": ensemble_size\n",
    "    },\n",
    "    # options for training the dynamics model\n",
    "    \"algorithm\": {\n",
    "        \"learned_rewards\": True,\n",
    "        \"target_is_delta\": True,\n",
    "        \"normalize\": True,\n",
    "    },\n",
    "    # these are experiment specific options\n",
    "    \"overrides\": {\n",
    "        \"trial_length\": trial_length,\n",
    "        \"num_steps\": num_trials * trial_length,\n",
    "        \"model_batch_size\": 1,\n",
    "        \"validation_ratio\": 0.05\n",
    "    }\n",
    "}\n",
    "cfg = omegaconf.OmegaConf.create(cfg_dict)"
   ]
  },
  {
   "cell_type": "code",
   "execution_count": 544,
   "id": "0be85b89-bfd6-4474-871d-5dfcd756f35f",
   "metadata": {
    "tags": []
   },
   "outputs": [],
   "source": [
    "# Create a 1-D dynamics model for this environment\n",
    "dynamics_model = common_util.create_one_dim_tr_model(cfg, obs_shape, act_shape)\n",
    "dynamics_model.set_elite([0])\n",
    "\n",
    "# Create a gym-like environment to encapsulate the model\n",
    "model_env = models.ModelEnv(env, dynamics_model, term_fn, reward_fn, generator=generator)"
   ]
  },
  {
   "cell_type": "code",
   "execution_count": 549,
   "id": "672ae78a-7b4d-42d9-9248-b72de32915fd",
   "metadata": {
    "tags": []
   },
   "outputs": [],
   "source": [
    "replay_buffer = common_util.create_replay_buffer(cfg, obs_shape, act_shape, rng=rng)"
   ]
  },
  {
   "cell_type": "code",
   "execution_count": 550,
   "id": "e456e130-9bf0-41c2-aa89-24983822ed5c",
   "metadata": {
    "tags": []
   },
   "outputs": [
    {
     "name": "stdout",
     "output_type": "stream",
     "text": [
      "# samples stored 500\n"
     ]
    }
   ],
   "source": [
    "common_util.rollout_agent_trajectories(\n",
    "    env,\n",
    "    trial_length, # initial exploration steps\n",
    "    planning.RandomAgent(env),\n",
    "    {}, # keyword arguments to pass to agent.act()\n",
    "    replay_buffer=replay_buffer,\n",
    "    trial_length=trial_length\n",
    ")\n",
    "\n",
    "print(\"# samples stored\", replay_buffer.num_stored)"
   ]
  },
  {
   "cell_type": "code",
   "execution_count": 551,
   "id": "f16bc442-e92a-4660-a4e3-f4d377093d4a",
   "metadata": {
    "tags": []
   },
   "outputs": [],
   "source": [
    "agent_cfg = omegaconf.OmegaConf.create({\n",
    "    # this class evaluates many trajectories and picks the best one\n",
    "    \"_target_\": \"mbrl.planning.TrajectoryOptimizerAgent\",\n",
    "    \"planning_horizon\": 3,\n",
    "    \"replan_freq\": 1,\n",
    "    \"verbose\": False,\n",
    "    \"action_lb\": \"???\",\n",
    "    \"action_ub\": \"???\",\n",
    "    # this is the optimizer to generate and choose a trajectory\n",
    "    \"optimizer_cfg\": {\n",
    "        \"_target_\": \"mbrl.planning.CEMOptimizer\",\n",
    "        \"num_iterations\": 10,\n",
    "        \"elite_ratio\": 0.1,\n",
    "        \"population_size\": 999,\n",
    "        \"alpha\": 0.1,\n",
    "        \"device\": device,\n",
    "        \"lower_bound\": \"???\",\n",
    "        \"upper_bound\": \"???\",\n",
    "        \"return_mean_elites\": True,\n",
    "        \"clipped_normal\": False\n",
    "    }\n",
    "})\n",
    "\n",
    "agent = planning.create_trajectory_optim_agent_for_model(\n",
    "    model_env,\n",
    "    agent_cfg,\n",
    "    num_particles=20\n",
    ")"
   ]
  },
  {
   "cell_type": "code",
   "execution_count": 552,
   "id": "9008cea9-6472-4a14-935e-5acaba27a3f6",
   "metadata": {
    "tags": []
   },
   "outputs": [],
   "source": [
    "train_losses = []\n",
    "val_scores = []\n",
    "\n",
    "def train_callback(_model, _total_calls, _epoch, tr_loss, val_score, _best_val):\n",
    "    train_losses.append(tr_loss)\n",
    "    val_scores.append(val_score.mean().item())"
   ]
  },
  {
   "cell_type": "code",
   "execution_count": 553,
   "id": "d5a25626-172d-4f15-abae-db7ee1ee21a5",
   "metadata": {
    "tags": []
   },
   "outputs": [],
   "source": [
    "class SymbolicModelTrainer:\n",
    "    def __init__(self, dynamics_model: SymbolicModel):\n",
    "        self.dynamics_model = dynamics_model\n",
    "    \n",
    "    def train(self, dataset_train, dataset_val):\n",
    "        X_train = np.hstack((dataset_train.transitions.obs, dataset_train.transitions.act))\n",
    "        X_val = np.hstack((dataset_val.transitions.obs, dataset_val.transitions.act))\n",
    "        y_train = dataset_train.transitions.rewards\n",
    "        y_val = dataset_val.transitions.rewards\n",
    "        # reshuffling\n",
    "        p_train = np.random.permutation(len(X_train))\n",
    "        reg = self.dynamics_model.model.reg\n",
    "        reg.fit(X_train[p_train], y_train[p_train])\n",
    "        print(reg.get_model_string(reg.model_))\n",
    "        return reg.score(X_train, y_train), reg.score(X_val, y_val)"
   ]
  },
  {
   "cell_type": "code",
   "execution_count": 554,
   "id": "24b7dd8d-d18e-42d8-89b9-b21b173fe757",
   "metadata": {
    "tags": []
   },
   "outputs": [
    {
     "name": "stdout",
     "output_type": "stream",
     "text": [
      "0\n",
      "475 25\n",
      "((-0.006) + (1.000 * (((sin((((0.868 * X1) + (0.881 * X2)) - 1.575)) / 1.297) - (-1.859)) * sin(((((0.653 * X1) + (0.653 * X2)) - 0.490) / 0.104)))))\n",
      "0.9992892742156982 0.9994442462921143\n",
      "tensor([0.9436]) tensor([1.2845]) False [False]\n",
      "tensor([1.8773]) tensor([1.3406]) False [False]\n",
      "tensor([2.8047]) tensor([0.8583]) False [False]\n",
      "tensor([3.7645]) tensor([0.3201]) False [False]\n",
      "tensor([4.6976]) tensor([-1.5468]) False [False]\n",
      "tensor([5.6567]) tensor([-3.6457]) False [False]\n",
      "tensor([6.5968]) tensor([-7.3980]) False [False]\n",
      "tensor([7.5598]) tensor([-11.5601]) False [False]\n",
      "tensor([8.5060]) tensor([-17.0240]) False [False]\n",
      "tensor([9.4613]) tensor([-22.7364]) True [False]\n",
      "1\n",
      "485 25\n",
      "(0.002 + (1.001 * ((sin((6.183 * X1)) - ((abs((-5.544)) + (2.539 * X1)) * (abs((1.698 + (1.738 * X1))) * ((0.011 * X1) - 0.024)))) / (0.014 / (0.011 * X2)))))\n",
      "0.6888334155082703 -0.09916496276855469\n",
      "tensor([0.8383]) tensor([0.6964]) False [False]\n",
      "tensor([1.7089]) tensor([-0.4513]) False [False]\n",
      "tensor([2.6290]) tensor([-1.6554]) False [False]\n",
      "tensor([3.5838]) tensor([-2.8545]) False [False]\n",
      "tensor([4.5167]) tensor([-4.4819]) False [False]\n",
      "tensor([5.4625]) tensor([-6.0069]) False [False]\n",
      "tensor([6.3844]) tensor([-6.2787]) False [False]\n",
      "tensor([7.3320]) tensor([-5.6755]) False [False]\n",
      "tensor([8.2315]) tensor([1.8076]) False [False]\n",
      "tensor([9.1739]) tensor([9.7983]) True [False]\n",
      "2\n",
      "494 26\n",
      "((-0.008) + (1.020 * (((0.898 * (exp((0.349 * X1)) * abs(0.920))) + exp(((-0.737) * X2))) * ((5.423 * (0.173 * X2)) * (sin((((-4.264) * X2) - (6.324 * X1))) * exp((0.460 * X2)))))))\n",
      "0.8724499940872192 0.5367145538330078\n",
      "tensor([0.6282]) tensor([-0.8540]) False [False]\n",
      "tensor([1.5735]) tensor([-1.5126]) False [False]\n",
      "tensor([2.5029]) tensor([-2.3028]) False [False]\n",
      "tensor([3.4768]) tensor([-3.1526]) False [False]\n",
      "tensor([4.4105]) tensor([-3.6801]) False [False]\n",
      "tensor([5.3316]) tensor([-2.8999]) False [False]\n",
      "tensor([6.2509]) tensor([-0.0473]) False [False]\n",
      "tensor([7.1823]) tensor([4.5245]) False [False]\n",
      "tensor([8.1224]) tensor([10.7705]) False [False]\n",
      "tensor([9.0406]) tensor([19.6991]) True [False]\n",
      "3\n",
      "504 26\n",
      "((-0.050) + (0.361 * (((exp((0.284 * X1)) * ((((-0.150) * X2) - (-0.159)) + sin(abs((6.439 * X1))))) * (0.481 * X2)) * (1.614 * X1))))\n",
      "0.7528073787689209 -0.08971107006072998\n",
      "tensor([-0.5860]) tensor([-1.0424]) False [False]\n",
      "tensor([-1.2857]) tensor([-0.3415]) False [False]\n",
      "tensor([-2.2454]) tensor([0.0610]) False [False]\n",
      "tensor([-3.1775]) tensor([1.2682]) False [False]\n",
      "tensor([-4.1236]) tensor([2.8190]) False [False]\n",
      "tensor([-5.0663]) tensor([4.9499]) False [False]\n",
      "tensor([-6.0056]) tensor([7.3983]) False [False]\n",
      "tensor([-6.8816]) tensor([7.2955]) False [False]\n",
      "tensor([-7.7502]) tensor([0.0126]) False [False]\n",
      "tensor([-8.6582]) tensor([-9.7721]) True [False]\n",
      "4\n",
      "513 27\n",
      "((-0.016) + (1.000 * (((((1.952 * X2) - (((((-95.257) * X2) + (54.351 * X1)) * (4.012 * X2)) + abs(((-419.565) * X2)))) + (12.270 * X2)) * sin((0.151 + (6.419 * X1)))) * ((exp(((-2.478) * X2)) - (38.676 * X1)) / 27275.111))))\n",
      "0.776567280292511 0.5013100504875183\n",
      "tensor([0.6683]) tensor([-0.6137]) False [False]\n",
      "tensor([1.3780]) tensor([-1.1406]) False [False]\n",
      "tensor([2.2723]) tensor([-0.2974]) False [False]\n",
      "tensor([3.1976]) tensor([0.9392]) False [False]\n",
      "tensor([4.1607]) tensor([2.1297]) False [False]\n",
      "tensor([5.0781]) tensor([4.7926]) False [False]\n",
      "tensor([6.0259]) tensor([7.3547]) False [False]\n",
      "tensor([6.9676]) tensor([9.9901]) False [False]\n",
      "tensor([7.9182]) tensor([12.1932]) False [False]\n",
      "tensor([8.8698]) tensor([13.1460]) True [False]\n",
      "5\n",
      "523 27\n",
      "(0.011 + ((-1.133) * (((exp((-0.746)) - (-0.000)) + (((3.142 * X1) * ((-0.096) * X1)) + ((-0.000) * X1))) * sin(sin((((-6.221) * X1) - (-20.350)))))))\n",
      "0.7757374048233032 0.7715643048286438\n",
      "tensor([-0.6391]) tensor([-0.7939]) False [False]\n",
      "tensor([-1.3195]) tensor([-0.6564]) False [False]\n",
      "tensor([-2.2739]) tensor([-0.3192]) False [False]\n",
      "tensor([-3.1055]) tensor([2.2198]) False [False]\n",
      "tensor([-4.0601]) tensor([3.5977]) False [False]\n",
      "tensor([-4.9989]) tensor([5.2925]) False [False]\n",
      "tensor([-5.8801]) tensor([5.1776]) False [False]\n",
      "tensor([-6.8297]) tensor([4.6762]) False [False]\n",
      "tensor([-7.7683]) tensor([1.5252]) False [False]\n",
      "tensor([-8.6826]) tensor([-7.4224]) True [False]\n",
      "6\n",
      "532 28\n",
      "((-0.023) + (1.018 * ((sin(sin((0.068 + ((-0.073) * X2)))) + sin(sin(((6.201 * X1) - 54.800)))) * abs(abs(((exp((0.299 * X1)) - ((-2.451) * X1)) * ((0.141 * X2) + (0.074 * X1))))))))\n",
      "0.7924329042434692 0.8134475946426392\n",
      "tensor([0.5817]) tensor([-1.0576]) False [False]\n",
      "tensor([1.2630]) tensor([-0.1242]) False [False]\n",
      "tensor([2.0023]) tensor([1.9490]) False [False]\n",
      "tensor([2.7046]) tensor([-0.6933]) False [False]\n",
      "tensor([3.6224]) tensor([-2.4031]) False [False]\n",
      "tensor([4.4393]) tensor([-4.0759]) False [False]\n",
      "tensor([5.2531]) tensor([-0.1114]) False [False]\n",
      "tensor([6.1324]) tensor([5.2010]) False [False]\n",
      "tensor([6.9681]) tensor([9.9990]) False [False]\n",
      "tensor([7.8907]) tensor([10.7314]) True [False]\n",
      "7\n",
      "542 28\n",
      "((-0.008) + (0.003 * ((34.876 * X1) * (((-0.444) * X1) * (((-0.871) * X1) * sin((6.455 * X1)))))))\n",
      "0.7729894518852234 0.6775028109550476\n",
      "tensor([-0.6372]) tensor([-0.8051]) False [False]\n",
      "tensor([-1.4652]) tensor([-1.5910]) False [False]\n",
      "tensor([-2.3639]) tensor([-1.4428]) False [False]\n",
      "tensor([-3.1939]) tensor([1.0013]) False [False]\n",
      "tensor([-4.0141]) tensor([3.7966]) False [False]\n",
      "tensor([-4.9174]) tensor([4.4724]) False [False]\n",
      "tensor([-5.7543]) tensor([0.1853]) False [False]\n",
      "tensor([-6.6331]) tensor([-6.1176]) False [False]\n",
      "tensor([-7.5319]) tensor([-12.0663]) False [False]\n",
      "tensor([-8.4078]) tensor([-13.7944]) True [False]\n",
      "8\n",
      "551 29\n",
      "((-0.048) + (1.000 * ((((((-3.816) + (0.149 * X1)) - (-10.968)) * (sin(abs((6.435 * X1))) + (-0.012))) * ((0.002 + ((-0.006) * X1)) * sin((5.398 * X2)))) * (abs((5.433 * X1)) + 10.953))))\n",
      "0.8557115793228149 0.8145813941955566\n",
      "tensor([0.6679]) tensor([-0.6165]) False [False]\n",
      "tensor([1.4579]) tensor([-1.5692]) False [False]\n",
      "tensor([2.4382]) tensor([-2.0864]) False [False]\n",
      "tensor([3.3160]) tensor([-1.2168]) False [False]\n",
      "tensor([4.1465]) tensor([2.4118]) False [False]\n",
      "tensor([5.0522]) tensor([5.1004]) False [False]\n",
      "tensor([5.9160]) tensor([6.2061]) False [False]\n",
      "tensor([6.7953]) tensor([2.7069]) False [False]\n",
      "tensor([7.6886]) tensor([-4.8821]) False [False]\n",
      "tensor([8.5627]) tensor([-16.0316]) True [False]\n",
      "9\n",
      "561 29\n",
      "((-0.064) + (1.001 * ((abs((((-0.006) * X2) + (0.006 * X1))) * ((((1.614 * X1) - 1.233) * (((25.492 - ((-1.767) * X1)) + (0.150 * X1)) + ((-9.512) * X2))) + (exp((-9.451)) - ((-131.698) * X2)))) * sin(((((-4.582) * X1) - 59.753) - (1.844 * X1))))))\n",
      "0.8417139053344727 0.887842059135437\n",
      "tensor([-0.6429]) tensor([-0.7721]) False [False]\n",
      "tensor([-1.4572]) tensor([-1.5670]) False [False]\n",
      "tensor([-2.4247]) tensor([-1.9977]) False [False]\n",
      "tensor([-3.2793]) tensor([-0.5457]) False [False]\n",
      "tensor([-4.1573]) tensor([2.1999]) False [False]\n",
      "tensor([-5.0924]) tensor([4.5652]) False [False]\n",
      "tensor([-5.9626]) tensor([7.0966]) False [False]\n",
      "tensor([-6.8751]) tensor([7.0004]) False [False]\n",
      "tensor([-7.7719]) tensor([1.8316]) False [False]\n",
      "tensor([-8.6937]) tensor([-6.2809]) True [False]\n"
     ]
    }
   ],
   "source": [
    "# Create a trainer for the model\n",
    "#model_trainer = models.ModelTrainer(dynamics_model, optim_lr=7.5e-4, weight_decay=3e-5)\n",
    "model_trainer = SymbolicModelTrainer(dynamics_model)\n",
    "# Main PETS loop\n",
    "all_rewards = [0]\n",
    "for trial in range(num_trials):\n",
    "    print(trial)\n",
    "    obs, _ = env.reset()    \n",
    "    agent.reset()\n",
    "    \n",
    "    terminated = False\n",
    "    total_reward = 0.0\n",
    "    steps_trial = 0\n",
    "    while not terminated:\n",
    "        # --------------- Model Training -----------------\n",
    "        if steps_trial == 0:\n",
    "            dynamics_model.update_normalizer(replay_buffer.get_all())  # update normalizer stats\n",
    "                        \n",
    "            dataset_train, dataset_val = common_util.get_basic_buffer_iterators(\n",
    "                replay_buffer,\n",
    "                batch_size=cfg.overrides.model_batch_size,\n",
    "                val_ratio=cfg.overrides.validation_ratio,\n",
    "                ensemble_size=ensemble_size,\n",
    "                shuffle_each_epoch=True,\n",
    "                bootstrap_permutes=False,  # build bootstrap dataset using sampling with replacement\n",
    "            )\n",
    "            \n",
    "            print(dataset_train.num_stored, dataset_val.num_stored)\n",
    "            \n",
    "            # process and standardize the data\n",
    "            X_train = np.hstack((dataset_train.transitions.obs, dataset_train.transitions.act))\n",
    "            X_val = np.hstack((dataset_val.transitions.obs, dataset_val.transitions.act))\n",
    "            y_train = dataset_train.transitions.rewards\n",
    "            y_val = dataset_val.transitions.rewards\n",
    "            #mean_train = np.mean(X_train, axis = 0)\n",
    "            #std_train = np.std(X_train, axis = 0)\n",
    "            #X_train_norm = X_train - np.\n",
    "            \n",
    "            \n",
    "            \n",
    "                \n",
    "            #model_trainer.train(\n",
    "            #    dataset_train, \n",
    "            #    dataset_val=dataset_val, \n",
    "            #    num_epochs=2000, \n",
    "            #    patience=25, \n",
    "            #    callback=train_callback,\n",
    "            #    silent=True)\n",
    "            train_r2, val_r2 = model_trainer.train(dataset_train, dataset_val)\n",
    "            print(train_r2, val_r2)\n",
    "            \n",
    "            \n",
    "\n",
    "        # --- Doing env step using the agent and adding to model dataset ---\n",
    "        next_obs, reward, terminated, truncated, _ = common_util.step_env_and_add_to_buffer(\n",
    "            env, obs, agent, {}, replay_buffer)            \n",
    "        \n",
    "        print(next_obs, reward, terminated, truncated)\n",
    "        \n",
    "        obs = next_obs\n",
    "        total_reward += reward\n",
    "        steps_trial += 1\n",
    "        \n",
    "        if steps_trial == trial_length:\n",
    "            break\n",
    "    \n",
    "    all_rewards.append(total_reward)"
   ]
  },
  {
   "cell_type": "code",
   "execution_count": 555,
   "id": "55c7016f-cecf-4db8-9436-86570939acb5",
   "metadata": {
    "tags": []
   },
   "outputs": [],
   "source": [
    "num_data = 999\n",
    "data = torch.zeros((num_data,2))\n",
    "data[:,0] = torch.linspace(-10,10, num_data)"
   ]
  },
  {
   "cell_type": "code",
   "execution_count": 556,
   "id": "a5c0c840-bce8-4946-b67f-681d7592f4e0",
   "metadata": {
    "tags": []
   },
   "outputs": [
    {
     "name": "stdout",
     "output_type": "stream",
     "text": [
      "((-0.064) + (1.001 * ((abs((((-0.006) * X2) + (0.006 * X1))) * ((((1.614 * X1) - 1.233) * (((25.492 - ((-1.767) * X1)) + (0.150 * X1)) + ((-9.512) * X2))) + (exp((-9.451)) - ((-131.698) * X2)))) * sin(((((-4.582) * X1) - 59.753) - (1.844 * X1))))))\n"
     ]
    }
   ],
   "source": [
    "print(dynamics_model.model.reg.get_model_string(dynamics_model.model.reg.model_))"
   ]
  },
  {
   "cell_type": "code",
   "execution_count": 557,
   "id": "4837e1bf-2794-4b4a-a821-db9dd9b07f54",
   "metadata": {
    "tags": []
   },
   "outputs": [],
   "source": [
    "reward = dynamics_model.model.reg.predict(data)"
   ]
  },
  {
   "cell_type": "code",
   "execution_count": 158,
   "id": "1c7da44c-fec1-4def-91cd-640b545e6a96",
   "metadata": {
    "tags": []
   },
   "outputs": [],
   "source": [
    "#with torch.no_grad():\n",
    "#    reward = dynamics_model.model(data.to(\"cuda\"), propagation_indices=np.arange(num_data))[0][:,1]"
   ]
  },
  {
   "cell_type": "code",
   "execution_count": 558,
   "id": "4564e541-ae30-4280-a1e2-4410da64da0e",
   "metadata": {
    "tags": []
   },
   "outputs": [
    {
     "data": {
      "image/png": "[encoded data removed]",
      "text/plain": [
       "<Figure size 640x480 with 1 Axes>"
      ]
     },
     "metadata": {},
     "output_type": "display_data"
    }
   ],
   "source": [
    "#plt.plot(data[:,0], reward.to(\"cpu\"))\n",
    "plt.plot(data[:,0], reward, label=\"Predicted reward\")\n",
    "plt.plot(data[:,0], reward_fn(data[:,1], data[:,0]), label=\"True reward\")\n",
    "plt.legend()\n",
    "plt.show()"
   ]
  }
 ],
 "metadata": {
  "kernelspec": {
   "display_name": "Python 3 (ipykernel)",
   "language": "python",
   "name": "python3"
  },
  "language_info": {
   "codemirror_mode": {
    "name": "ipython",
    "version": 3
   },
   "file_extension": ".py",
   "mimetype": "text/x-python",
   "name": "python",
   "nbconvert_exporter": "python",
   "pygments_lexer": "ipython3",
   "version": "3.10.2"
  }
 },
 "nbformat": 4,
 "nbformat_minor": 5
}
