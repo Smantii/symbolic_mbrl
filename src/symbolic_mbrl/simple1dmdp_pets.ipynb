{
 "cells": [
  {
   "cell_type": "code",
   "execution_count": 1,
   "id": "3a3e5422-8528-4ab9-8495-efe23fb9e0a5",
   "metadata": {
    "tags": []
   },
   "outputs": [],
   "source": [
    "from IPython import display\n",
    "%matplotlib inline\n",
    "import matplotlib as mpl\n",
    "import matplotlib.pyplot as plt\n",
    "import numpy as np\n",
    "import torch\n",
    "import omegaconf\n",
    "from gymnasium import spaces\n",
    "import gymnasium as gym\n",
    "\n",
    "\n",
    "import mbrl.models as models\n",
    "from mbrl.models import Ensemble\n",
    "import mbrl.planning as planning\n",
    "import mbrl.util.common as common_util\n",
    "import mbrl.util as util\n",
    "from pyoperon.sklearn import SymbolicRegressor\n",
    "\n",
    "\n",
    "%load_ext autoreload\n",
    "%autoreload 2\n",
    "\n",
    "mpl.rcParams.update({\"font.size\": 16})\n",
    "\n",
    "device = 'cuda:0' if torch.cuda.is_available() else 'cpu'"
   ]
  },
  {
   "cell_type": "code",
   "execution_count": 2,
   "id": "82e751ff-3f48-49a4-b102-bdd60e6554f9",
   "metadata": {
    "tags": []
   },
   "outputs": [],
   "source": [
    "def term_fn(a, next_obs):\n",
    "    #threshold = 10\n",
    "    #not_done = (next_obs > -threshold)* (next_obs < threshold)\n",
    "    #done = ~not_done\n",
    "    #done = done[:, None]\n",
    "    return False\n",
    "\n",
    "def reward_fn(a, next_obs):\n",
    "    return torch.cos(2 * torch.pi * next_obs) * torch.exp(torch.abs(next_obs) / 3)"
   ]
  },
  {
   "cell_type": "code",
   "execution_count": 3,
   "id": "bcf1bf24-6afd-45dd-9c2d-0d963240493c",
   "metadata": {
    "tags": []
   },
   "outputs": [],
   "source": [
    "class Simple1DMDP(gym.Env):\n",
    "    def __init__(self):\n",
    "        super(Simple1DMDP, self).__init__()\n",
    "        \n",
    "        # define the action space\n",
    "        self.action_space = spaces.Box(low=-1, high=1, shape=(1,), dtype=np.float32)\n",
    "        \n",
    "        # define the observation space: continuous single dimension for position\n",
    "        self.observation_space = spaces.Box(low=-10, high=10, shape=(1,), dtype=np.float32)\n",
    "        # Initialize state and episode length\n",
    "        self.state = 0.0\n",
    "        self.episode_length = 10\n",
    "        self.current_step = 0\n",
    "\n",
    "    def reset(self, seed=None):\n",
    "        # reset the state to 0 and the step counter\n",
    "        self.state = 0.0\n",
    "        self.current_step = 0\n",
    "        return torch.FloatTensor([self.state]), {}\n",
    "\n",
    "    def step(self, action):  \n",
    "        # update state based on action\n",
    "        self.state += action\n",
    "        # clip in the case we go outside of [-10,10]\n",
    "        actual_new_state = self.state\n",
    "        self.state = np.clip(self.state, -10.,10.)\n",
    "        \n",
    "        # calculate reward\n",
    "        #reward = torch.cos(2 * torch.pi * self.state) * torch.exp(torch.abs(self.state) / 3)\n",
    "        reward = reward_fn(torch.from_numpy(action), torch.from_numpy(self.state))\n",
    "        # increment step counter\n",
    "        self.current_step += 1\n",
    "        # check if episode is terminated\n",
    "        #terminated = term_fn(action, actual_new_state)\n",
    "        terminated = self.current_step >= self.episode_length\n",
    "        # set placeholder for truncated\n",
    "        truncated = False\n",
    "        # set placeholder for info\n",
    "        info = {}\n",
    "        return torch.FloatTensor([self.state]).flatten(), reward, terminated, truncated, info\n",
    "\n",
    "    def render(self, mode='human'):\n",
    "        # simple print rendering\n",
    "        print(f\"Step: {self.current_step}, State: {self.state}\")"
   ]
  },
  {
   "cell_type": "code",
   "execution_count": 113,
   "id": "40e84fe0-55a9-4f85-9713-7cb10a595c53",
   "metadata": {
    "tags": []
   },
   "outputs": [],
   "source": [
    "class SymbolicModel(Ensemble):\n",
    "    def __init__(self, symbols, population_size, generations, max_length, in_size, out_size,\n",
    "                num_members, device, propagation_method, deterministic):\n",
    "        super().__init__(num_members, device, propagation_method, deterministic)\n",
    "        self.in_size = in_size\n",
    "        self.out_size = out_size\n",
    "        self.reg = SymbolicRegressor(population_size = population_size,\n",
    "                                     allowed_symbols=symbols,\n",
    "                                     optimizer_iterations=5,\n",
    "                                     generations = generations,\n",
    "                                     n_threads=32,\n",
    "                                     max_length = max_length)\n",
    "    def forward(self, x, rng, propagation_indices):\n",
    "        next_obs= x[:,0] + x[:,1]\n",
    "        reward = self.reg.predict(x)\n",
    "        preds = np.vstack((next_obs, reward)).T\n",
    "        return torch.from_numpy(preds), None\n",
    "    \n",
    "    def loss(self, model_in, target):\n",
    "        return self.reg.score(model_in, target)\n",
    "    \n",
    "    def eval_score(self, model_in, target):\n",
    "        return self.reg.score(model_in, target)\n",
    "    \n",
    "    def sample_propagation_indices(\n",
    "        self, batch_size: int, _rng: torch.Generator) -> torch.Tensor:\n",
    "        model_len = num_members\n",
    "        if batch_size % model_len != 0:\n",
    "            raise ValueError(\n",
    "                \"To use SymbolicModel's ensemble propagation, the batch size must \"\n",
    "                \"be a multiple of the number of models in the ensemble.\"\n",
    "            )\n",
    "        # rng causes segmentation fault, see https://github.com/pytorch/pytorch/issues/44714\n",
    "        return torch.randperm(batch_size, device=self.device)"
   ]
  },
  {
   "cell_type": "code",
   "execution_count": 115,
   "id": "9748292f-29b1-4727-bbc3-d38a6a69e2b9",
   "metadata": {
    "tags": []
   },
   "outputs": [
    {
     "name": "stdout",
     "output_type": "stream",
     "text": [
      "Initial State: (tensor([0.]), {})\n",
      "Action: [-0.47693422], State: tensor([-0.4769]), Reward: tensor([-1.1600])\n",
      "Step: 1, State: [-0.47693422]\n",
      "Action: [-0.7814329], State: tensor([-1.2584]), Reward: tensor([-0.0799])\n",
      "Step: 2, State: [-1.2583672]\n",
      "Action: [-0.06365731], State: tensor([-1.3220]), Reward: tensor([-0.6794])\n",
      "Step: 3, State: [-1.3220245]\n",
      "Action: [0.36302763], State: tensor([-0.9590]), Reward: tensor([1.3312])\n",
      "Step: 4, State: [-0.95899683]\n",
      "Action: [-0.02135107], State: tensor([-0.9803]), Reward: tensor([1.3759])\n",
      "Step: 5, State: [-0.98034793]\n",
      "Action: [-0.9589043], State: tensor([-1.9393]), Reward: tensor([1.7713])\n",
      "Step: 6, State: [-1.9392523]\n",
      "Action: [-0.47497073], State: tensor([-2.4142]), Reward: tensor([-1.9191])\n",
      "Step: 7, State: [-2.414223]\n",
      "Action: [0.973297], State: tensor([-1.4409]), Reward: tensor([-1.5065])\n",
      "Step: 8, State: [-1.440926]\n",
      "Action: [-0.7403585], State: tensor([-2.1813]), Reward: tensor([0.8658])\n",
      "Step: 9, State: [-2.1812844]\n",
      "Action: [-0.09243043], State: tensor([-2.2737]), Reward: tensor([-0.3168])\n",
      "Step: 10, State: [-2.2737148]\n"
     ]
    }
   ],
   "source": [
    "# Register the custom environment\n",
    "gym.envs.registration.register(\n",
    "    id='Simple1DMDP-v0',\n",
    "    entry_point=Simple1DMDP\n",
    ")\n",
    "\n",
    "\n",
    "env = gym.make('Simple1DMDP-v0')\n",
    "\n",
    "# Reset the environment\n",
    "state = env.reset()\n",
    "print(f\"Initial State: {state}\")\n",
    "\n",
    "for _ in range(10):\n",
    "    action = env.action_space.sample()  # Random action\n",
    "    state, reward, terminated, truncated, info = env.step(action)\n",
    "\n",
    "    print(f\"Action: {action}, State: {state}, Reward: {reward}\")\n",
    "    env.render()"
   ]
  },
  {
   "cell_type": "code",
   "execution_count": 116,
   "id": "60d27669-573d-4891-91cf-b6730febed6b",
   "metadata": {
    "tags": []
   },
   "outputs": [],
   "source": [
    "seed = 0\n",
    "env.reset()\n",
    "rng = np.random.default_rng(seed=seed)\n",
    "generator = torch.Generator(device=device)\n",
    "generator.manual_seed(seed)\n",
    "obs_shape = env.observation_space.shape\n",
    "act_shape = env.action_space.shape"
   ]
  },
  {
   "cell_type": "code",
   "execution_count": 117,
   "id": "f8de040d-2a44-4738-8483-8d994882c525",
   "metadata": {
    "tags": []
   },
   "outputs": [],
   "source": [
    "# Neural Network\n",
    "\n",
    "trial_length = 500\n",
    "num_trials = 10\n",
    "ensemble_size = 7\n",
    "\n",
    "# Everything with \"???\" indicates an option with a missing value.\n",
    "# Our utility functions will fill in these details using the \n",
    "# environment information\n",
    "cfg_dict = {\n",
    "    # dynamics model configuration\n",
    "    \"dynamics_model\": {\n",
    "        \"_target_\": \"mbrl.models.GaussianMLP\",\n",
    "        \"device\": device,\n",
    "        \"num_layers\": 4,\n",
    "        \"ensemble_size\": ensemble_size,\n",
    "        \"hid_size\": 200,\n",
    "        \"in_size\": \"???\",\n",
    "        \"out_size\": \"???\",\n",
    "        \"deterministic\": True,\n",
    "        \"propagation_method\": \"fixed_model\",\n",
    "        # can also configure activation function for GaussianMLP\n",
    "        \"activation_fn_cfg\": {\n",
    "            \"_target_\": \"torch.nn.SiLU\"}\n",
    "    },\n",
    "    # options for training the dynamics model\n",
    "    \"algorithm\": {\n",
    "        \"learned_rewards\": True,\n",
    "        \"target_is_delta\": True,\n",
    "        \"normalize\": True,\n",
    "    },\n",
    "    # these are experiment specific options\n",
    "    \"overrides\": {\n",
    "        \"trial_length\": trial_length,\n",
    "        \"num_steps\": num_trials * trial_length,\n",
    "        \"model_batch_size\": 1,\n",
    "        \"validation_ratio\": 0.05\n",
    "    }\n",
    "}\n",
    "cfg = omegaconf.OmegaConf.create(cfg_dict)"
   ]
  },
  {
   "cell_type": "code",
   "execution_count": 146,
   "id": "642f9b2c-3c79-45ff-9f84-a327f817bf3f",
   "metadata": {
    "tags": []
   },
   "outputs": [],
   "source": [
    "# Symbolic Regression\n",
    "\n",
    "trial_length = 500\n",
    "num_trials = 10\n",
    "ensemble_size = 1\n",
    "\n",
    "# Everything with \"???\" indicates an option with a missing value.\n",
    "# Our utility functions will fill in these details using the \n",
    "# environment information\n",
    "cfg_dict = {\n",
    "    # dynamics model configuration\n",
    "    \"dynamics_model\": {\n",
    "        \"_target_\": \"__main__.SymbolicModel\",\n",
    "        \"symbols\": \"add,sub,mul,div,constant,variable,sin,exp,abs\",\n",
    "        \"population_size\": 5000,\n",
    "        \"generations\": 10000,\n",
    "        \"max_length\": 30,\n",
    "        \"in_size\": \"???\",\n",
    "        \"out_size\": \"???\",\n",
    "        \"device\": \"cpu\",\n",
    "        \"deterministic\": True,\n",
    "        \"propagation_method\": None,\n",
    "        \"num_members\": ensemble_size\n",
    "    },\n",
    "    # options for training the dynamics model\n",
    "    \"algorithm\": {\n",
    "        \"learned_rewards\": True,\n",
    "        \"target_is_delta\": True,\n",
    "        \"normalize\": True,\n",
    "    },\n",
    "    # these are experiment specific options\n",
    "    \"overrides\": {\n",
    "        \"trial_length\": trial_length,\n",
    "        \"num_steps\": num_trials * trial_length,\n",
    "        \"model_batch_size\": 1,\n",
    "        \"validation_ratio\": 0.05\n",
    "    }\n",
    "}\n",
    "cfg = omegaconf.OmegaConf.create(cfg_dict)"
   ]
  },
  {
   "cell_type": "code",
   "execution_count": 147,
   "id": "0be85b89-bfd6-4474-871d-5dfcd756f35f",
   "metadata": {
    "tags": []
   },
   "outputs": [],
   "source": [
    "# Create a 1-D dynamics model for this environment\n",
    "dynamics_model = common_util.create_one_dim_tr_model(cfg, obs_shape, act_shape)\n",
    "dynamics_model.set_elite([0])\n",
    "\n",
    "# Create a gym-like environment to encapsulate the model\n",
    "model_env = models.ModelEnv(env, dynamics_model, term_fn, reward_fn, generator=generator)"
   ]
  },
  {
   "cell_type": "code",
   "execution_count": 148,
   "id": "672ae78a-7b4d-42d9-9248-b72de32915fd",
   "metadata": {
    "tags": []
   },
   "outputs": [],
   "source": [
    "replay_buffer = common_util.create_replay_buffer(cfg, obs_shape, act_shape, rng=rng)"
   ]
  },
  {
   "cell_type": "code",
   "execution_count": 149,
   "id": "e456e130-9bf0-41c2-aa89-24983822ed5c",
   "metadata": {
    "tags": []
   },
   "outputs": [
    {
     "name": "stdout",
     "output_type": "stream",
     "text": [
      "# samples stored 500\n"
     ]
    }
   ],
   "source": [
    "common_util.rollout_agent_trajectories(\n",
    "    env,\n",
    "    trial_length, # initial exploration steps\n",
    "    planning.RandomAgent(env),\n",
    "    {}, # keyword arguments to pass to agent.act()\n",
    "    replay_buffer=replay_buffer,\n",
    "    trial_length=trial_length\n",
    ")\n",
    "\n",
    "print(\"# samples stored\", replay_buffer.num_stored)"
   ]
  },
  {
   "cell_type": "code",
   "execution_count": 150,
   "id": "f16bc442-e92a-4660-a4e3-f4d377093d4a",
   "metadata": {
    "tags": []
   },
   "outputs": [],
   "source": [
    "agent_cfg = omegaconf.OmegaConf.create({\n",
    "    # this class evaluates many trajectories and picks the best one\n",
    "    \"_target_\": \"mbrl.planning.TrajectoryOptimizerAgent\",\n",
    "    \"planning_horizon\": 3,\n",
    "    \"replan_freq\": 1,\n",
    "    \"verbose\": False,\n",
    "    \"action_lb\": \"???\",\n",
    "    \"action_ub\": \"???\",\n",
    "    # this is the optimizer to generate and choose a trajectory\n",
    "    \"optimizer_cfg\": {\n",
    "        \"_target_\": \"mbrl.planning.CEMOptimizer\",\n",
    "        \"num_iterations\": 10,\n",
    "        \"elite_ratio\": 0.1,\n",
    "        \"population_size\": 999,\n",
    "        \"alpha\": 0.1,\n",
    "        \"device\": device,\n",
    "        \"lower_bound\": \"???\",\n",
    "        \"upper_bound\": \"???\",\n",
    "        \"return_mean_elites\": True,\n",
    "        \"clipped_normal\": False\n",
    "    }\n",
    "})\n",
    "\n",
    "agent = planning.create_trajectory_optim_agent_for_model(\n",
    "    model_env,\n",
    "    agent_cfg,\n",
    "    num_particles=20\n",
    ")"
   ]
  },
  {
   "cell_type": "code",
   "execution_count": 151,
   "id": "9008cea9-6472-4a14-935e-5acaba27a3f6",
   "metadata": {
    "tags": []
   },
   "outputs": [],
   "source": [
    "train_losses = []\n",
    "val_scores = []\n",
    "\n",
    "def train_callback(_model, _total_calls, _epoch, tr_loss, val_score, _best_val):\n",
    "    train_losses.append(tr_loss)\n",
    "    val_scores.append(val_score.mean().item())"
   ]
  },
  {
   "cell_type": "code",
   "execution_count": 152,
   "id": "d5a25626-172d-4f15-abae-db7ee1ee21a5",
   "metadata": {
    "tags": []
   },
   "outputs": [],
   "source": [
    "class SymbolicModelTrainer:\n",
    "    def __init__(self, dynamics_model: SymbolicModel):\n",
    "        self.dynamics_model = dynamics_model\n",
    "    \n",
    "    def train(self, dataset_train, dataset_val):\n",
    "        X_train = np.hstack((dataset_train.transitions.obs, dataset_train.transitions.act))\n",
    "        X_val = np.hstack((dataset_val.transitions.obs, dataset_val.transitions.act))\n",
    "        y_train = dataset_train.transitions.rewards\n",
    "        y_val = dataset_val.transitions.rewards\n",
    "        reg = self.dynamics_model.model.reg\n",
    "        reg.fit(X_train, y_train)\n",
    "        print(reg.get_model_string(reg.model_))\n"
   ]
  },
  {
   "cell_type": "code",
   "execution_count": 153,
   "id": "24b7dd8d-d18e-42d8-89b9-b21b173fe757",
   "metadata": {
    "tags": []
   },
   "outputs": [
    {
     "name": "stdout",
     "output_type": "stream",
     "text": [
      "0\n",
      "475 25\n",
      "((-0.095) + ((-1.064) * (((0.018 * X2) * ((-0.335) * X2)) * (sin(((1.641 * X1) / ((-0.345) * X2))) * ((((((-1.286) * X1) * ((-1.764) * X2)) + (-92.026)) - 0.839) - exp(((-1.743) * X1)))))))\n",
      "1\n",
      "485 25\n",
      "((-0.036) + (1.013 * (((((-0.554) - ((-0.500) * X1)) + exp(((-0.442) * X1))) - abs(abs(((-0.688) * X1)))) * ((sin(((-37.070) - ((-4.232) * X1))) * (0.492 * X2)) + (((exp(((-0.529) * X1)) - ((-0.991) * X1)) + (-1.083)) - sin((((-6.267) * X2) + (-1.117))))))))\n",
      "2\n",
      "494 26\n",
      "((-0.021) + ((-0.002) * abs((sin((((1.062 * X2) * (1.330 * X1)) * abs((-2.284)))) * (((exp((-0.291)) * (0.707 * X2)) * (((-0.921) * X2) * (((((-0.921) * X2) * (1.772 * X2)) - ((1.062 * X2) * (0.434 * X1))) * exp(abs((6.283 * X2)))))) * ((-1.307) * X1))))))\n",
      "3\n",
      "504 26\n",
      "((-0.122) + (0.996 * ((((0.047 * X2) * ((-0.655) * X2)) + abs(((-0.015) * X1))) * ((0.159 - abs((((-0.019) - ((-0.440) * X2)) * sin(((-16.509) * X2))))) * ((((-0.798) * X2) - ((-3.744) * X1)) * (abs(((-12.977) * X2)) * ((-0.004) + ((-4.652) * X2))))))))\n",
      "4\n",
      "513 27\n",
      "((-0.083) + ((-0.033) * ((exp(exp(sin(sin(sin((-0.939)))))) - (((sin(abs(((-0.764) * X1))) - abs(sin((1.316 * X2)))) * ((((-0.374) * X1) * ((-1.736) * X1)) * ((-0.628) * X1))) * ((-0.260) * X1))) * sin(((((-0.426) * X1) * ((-1.171) * X1)) * 0.941)))))\n",
      "5\n",
      "523 27\n",
      "((-0.026) + (1.005 * (((0.136 * X2) - (0.007 * X1)) + (((((9.261 * X2) + ((-6.962) * X2)) + (((-0.074) * X1) + (0.029 * X2))) - (((0.694 * X1) + 0.063) * (-1.467))) * sin(((((-6.333) * X1) + (-3.115)) + ((-7.974) * X2)))))))\n",
      "6\n",
      "532 28\n",
      "((-0.081) + (1.003 * (sin(sin(sin(((6.220 * X1) - (-1.563))))) * (exp((0.416 * X1)) + (((exp(((-0.329) * X1)) + (-2.339)) - (1.121 * X2)) * (1.209 + ((-1.109) * X2)))))))\n",
      "7\n",
      "542 28\n",
      "((-0.049) + ((-0.000) * ((abs((((1.414 * X1) * 1.443) * (2.718 * X1))) * (exp(exp(1.012)) * sin((((-0.360) * X1) * ((-1.307) * X1))))) * abs(((-1.996) * X1)))))\n",
      "8\n",
      "551 29\n",
      "((-0.036) + ((-0.365) * (abs((((((0.916 * X1) + sin((1.429 * X1))) * ((-0.855) * X1)) * sin(((0.569 * X1) * (-1.155)))) + (((-0.855) * X1) + sin(((0.569 * X1) * (-1.155)))))) * sin(((1.407 * X1) * (0.332 * X1))))))\n",
      "9\n",
      "561 29\n",
      "((-0.104) + ((-0.036) * ((((-0.568) * X1) * ((-0.273) * X1)) * (sin((6.451 * X1)) * ((exp(((-0.117) * X1)) - (54.505 * X2)) + sin((sin((6.394 * X1)) + ((-0.036) * X1))))))))\n"
     ]
    }
   ],
   "source": [
    "# Create a trainer for the model\n",
    "#model_trainer = models.ModelTrainer(dynamics_model, optim_lr=7.5e-4, weight_decay=3e-5)\n",
    "model_trainer = SymbolicModelTrainer(dynamics_model)\n",
    "    \n",
    "# Main PETS loop\n",
    "all_rewards = [0]\n",
    "for trial in range(num_trials):\n",
    "    print(trial)\n",
    "    obs, _ = env.reset()    \n",
    "    agent.reset()\n",
    "    \n",
    "    terminated = False\n",
    "    total_reward = 0.0\n",
    "    steps_trial = 0\n",
    "    while not terminated:\n",
    "        # --------------- Model Training -----------------\n",
    "        if steps_trial == 0:\n",
    "            dynamics_model.update_normalizer(replay_buffer.get_all())  # update normalizer stats\n",
    "                        \n",
    "            dataset_train, dataset_val = common_util.get_basic_buffer_iterators(\n",
    "                replay_buffer,\n",
    "                batch_size=cfg.overrides.model_batch_size,\n",
    "                val_ratio=cfg.overrides.validation_ratio,\n",
    "                ensemble_size=ensemble_size,\n",
    "                shuffle_each_epoch=True,\n",
    "                bootstrap_permutes=False,  # build bootstrap dataset using sampling with replacement\n",
    "            )\n",
    "            \n",
    "            print(dataset_train.num_stored, dataset_val.num_stored)\n",
    "            \n",
    "            \n",
    "                \n",
    "            #model_trainer.train(\n",
    "            #    dataset_train, \n",
    "            #    dataset_val=dataset_val, \n",
    "            #    num_epochs=2000, \n",
    "            #    patience=25, \n",
    "            #    callback=train_callback,\n",
    "            #    silent=True)\n",
    "            model_trainer.train(dataset_train, dataset_val)\n",
    "            \n",
    "            \n",
    "\n",
    "        # --- Doing env step using the agent and adding to model dataset ---\n",
    "        next_obs, reward, terminated, truncated, _ = common_util.step_env_and_add_to_buffer(\n",
    "            env, obs, agent, {}, replay_buffer)\n",
    "            \n",
    "        \n",
    "        \n",
    "        obs = next_obs\n",
    "        total_reward += reward\n",
    "        steps_trial += 1\n",
    "        \n",
    "        if steps_trial == trial_length:\n",
    "            break\n",
    "    \n",
    "    all_rewards.append(total_reward)"
   ]
  },
  {
   "cell_type": "code",
   "execution_count": 154,
   "id": "55c7016f-cecf-4db8-9436-86570939acb5",
   "metadata": {
    "tags": []
   },
   "outputs": [],
   "source": [
    "num_data = 999\n",
    "data = torch.zeros((num_data,2))\n",
    "data[:,0] = torch.linspace(-10,10, num_data)"
   ]
  },
  {
   "cell_type": "code",
   "execution_count": 155,
   "id": "4837e1bf-2794-4b4a-a821-db9dd9b07f54",
   "metadata": {
    "tags": []
   },
   "outputs": [],
   "source": [
    "reward = dynamics_model.model.reg.predict(data)"
   ]
  },
  {
   "cell_type": "code",
   "execution_count": null,
   "id": "1c7da44c-fec1-4def-91cd-640b545e6a96",
   "metadata": {
    "tags": []
   },
   "outputs": [],
   "source": [
    "with torch.no_grad():\n",
    "    reward = dynamics_model.model(data.to(\"cuda\"), propagation_indices=np.arange(num_data))[0][:,1]"
   ]
  },
  {
   "cell_type": "code",
   "execution_count": 156,
   "id": "4564e541-ae30-4280-a1e2-4410da64da0e",
   "metadata": {
    "tags": []
   },
   "outputs": [
    {
     "data": {
      "image/png": "[encoded data removed]",
      "text/plain": [
       "<Figure size 640x480 with 1 Axes>"
      ]
     },
     "metadata": {},
     "output_type": "display_data"
    }
   ],
   "source": [
    "#plt.plot(data[:,0], reward.to(\"cpu\"))\n",
    "plt.plot(data[:,0], reward, label=\"Predicted reward\")\n",
    "plt.plot(data[:,0], reward_fn(data[:,1], data[:,0]), label=\"True reward\")\n",
    "plt.legend()\n",
    "plt.show()"
   ]
  }
 ],
 "metadata": {
  "kernelspec": {
   "display_name": "Python 3 (ipykernel)",
   "language": "python",
   "name": "python3"
  },
  "language_info": {
   "codemirror_mode": {
    "name": "ipython",
    "version": 3
   },
   "file_extension": ".py",
   "mimetype": "text/x-python",
   "name": "python",
   "nbconvert_exporter": "python",
   "pygments_lexer": "ipython3",
   "version": "3.10.2"
  }
 },
 "nbformat": 4,
 "nbformat_minor": 5
}
