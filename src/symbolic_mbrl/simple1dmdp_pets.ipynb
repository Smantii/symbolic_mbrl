{
 "cells": [
  {
   "cell_type": "code",
   "execution_count": 1,
   "id": "3a3e5422-8528-4ab9-8495-efe23fb9e0a5",
   "metadata": {
    "tags": []
   },
   "outputs": [],
   "source": [
    "from IPython import display\n",
    "%matplotlib inline\n",
    "import matplotlib as mpl\n",
    "import matplotlib.pyplot as plt\n",
    "import numpy as np\n",
    "import torch\n",
    "import omegaconf\n",
    "from gymnasium import spaces\n",
    "import gymnasium as gym\n",
    "\n",
    "\n",
    "import mbrl.models as models\n",
    "from mbrl.models import Ensemble\n",
    "import mbrl.planning as planning\n",
    "import mbrl.util.common as common_util\n",
    "import mbrl.util as util\n",
    "from pyoperon.sklearn import SymbolicRegressor\n",
    "import warnings\n",
    "\n",
    "warnings.filterwarnings(\"ignore\")\n",
    "\n",
    "\n",
    "%load_ext autoreload\n",
    "%autoreload 2\n",
    "\n",
    "mpl.rcParams.update({\"font.size\": 16})\n",
    "\n",
    "device = 'cuda:0' if torch.cuda.is_available() else 'cpu'"
   ]
  },
  {
   "cell_type": "code",
   "execution_count": 2,
   "id": "82e751ff-3f48-49a4-b102-bdd60e6554f9",
   "metadata": {
    "tags": []
   },
   "outputs": [],
   "source": [
    "def term_fn(a, next_obs):\n",
    "    #threshold = 10\n",
    "    #not_done = (next_obs > -threshold)* (next_obs < threshold)\n",
    "    #done = ~not_done\n",
    "    #done = done[:, None]\n",
    "    return False\n",
    "\n",
    "def reward_fn(a, next_obs):\n",
    "    return torch.cos(2 * torch.pi * next_obs) * torch.exp(torch.abs(next_obs) / 3)"
   ]
  },
  {
   "cell_type": "code",
   "execution_count": 3,
   "id": "bcf1bf24-6afd-45dd-9c2d-0d963240493c",
   "metadata": {
    "tags": []
   },
   "outputs": [],
   "source": [
    "class Simple1DMDP(gym.Env):\n",
    "    def __init__(self):\n",
    "        super(Simple1DMDP, self).__init__()\n",
    "        \n",
    "        # define the action space\n",
    "        self.action_space = spaces.Box(low=-1, high=1, shape=(1,), dtype=np.float32)\n",
    "        \n",
    "        # define the observation space: continuous single dimension for position\n",
    "        self.observation_space = spaces.Box(low=-10, high=10, shape=(1,), dtype=np.float32)\n",
    "        # Initialize state and episode length\n",
    "        self.state = 0.0\n",
    "        self.episode_length = 10\n",
    "        self.current_step = 0\n",
    "\n",
    "    def reset(self, seed=None):\n",
    "        # reset the state to 0 and the step counter\n",
    "        self.state = 0.0\n",
    "        self.current_step = 0\n",
    "        return torch.FloatTensor([self.state]), {}\n",
    "\n",
    "    def step(self, action):  \n",
    "        # update state based on action\n",
    "        self.state += action\n",
    "        # clip in the case we go outside of [-10,10]\n",
    "        # set truncated parameter\n",
    "        truncated = np.abs(self.state) > 10\n",
    "        self.state = np.clip(self.state, -10.,10.)\n",
    "        \n",
    "        # calculate reward\n",
    "        #reward = torch.cos(2 * torch.pi * self.state) * torch.exp(torch.abs(self.state) / 3)\n",
    "        reward = reward_fn(torch.from_numpy(action), torch.from_numpy(self.state))\n",
    "        # increment step counter\n",
    "        self.current_step += 1\n",
    "        # check if episode is terminated\n",
    "        terminated = self.current_step >= self.episode_length\n",
    "        \n",
    "        # set placeholder for info\n",
    "        info = {}\n",
    "        return torch.FloatTensor([self.state]).flatten(), reward, terminated, truncated, info\n",
    "\n",
    "    def render(self, mode='human'):\n",
    "        # simple print rendering\n",
    "        print(f\"Step: {self.current_step}, State: {self.state}\")"
   ]
  },
  {
   "cell_type": "code",
   "execution_count": 4,
   "id": "40e84fe0-55a9-4f85-9713-7cb10a595c53",
   "metadata": {
    "tags": []
   },
   "outputs": [],
   "source": [
    "class SymbolicModel(Ensemble):\n",
    "    def __init__(self, symbols, population_size, generations, max_length, max_depth, in_size, out_size,\n",
    "                num_members, device, propagation_method, deterministic):\n",
    "        super().__init__(num_members, device, propagation_method, deterministic)\n",
    "        self.in_size = in_size\n",
    "        self.out_size = out_size\n",
    "        self.reg_next_obs = SymbolicRegressor(population_size = population_size,\n",
    "                                             allowed_symbols=symbols,\n",
    "                                             optimizer_iterations=10,\n",
    "                                             generations = generations,\n",
    "                                             n_threads=32,\n",
    "                                             max_length = max_length,\n",
    "                                             max_depth=max_depth)\n",
    "        self.reg_reward = SymbolicRegressor(population_size = population_size,\n",
    "                                             allowed_symbols=symbols,\n",
    "                                             optimizer_iterations=10,\n",
    "                                             generations = generations,\n",
    "                                             n_threads=32,\n",
    "                                             max_length = max_length,\n",
    "                                             max_depth=max_depth)\n",
    "        \n",
    "    \n",
    "    def update_mean_std(self, mean_X, std_X, mean_y, std_y):\n",
    "        self.mean_X = mean_X\n",
    "        self.std_X = std_X\n",
    "        self.mean_y = mean_y\n",
    "        self.std_y = std_y\n",
    "    \n",
    "    def forward(self, x, rng, propagation_indices):\n",
    "        #next_obs= x[:,0] + x[:,1]\n",
    "        next_obs= self.reg_next_obs.predict(x)\n",
    "        #reward = self.std_y*self.reg_reward.predict(((x - self.mean_X)/self.std_X)) + self.mean_y\n",
    "        reward = self.reg_reward.predict(x)\n",
    "        preds = np.vstack((next_obs, reward)).T\n",
    "        return torch.from_numpy(preds), None\n",
    "    \n",
    "    def loss(self, model_in, target):\n",
    "        return self.reg.score(model_in, target)\n",
    "    \n",
    "    def eval_score(self, model_in, target):\n",
    "        return self.reg.score(model_in, target)\n",
    "    \n",
    "    def sample_propagation_indices(\n",
    "        self, batch_size: int, _rng: torch.Generator) -> torch.Tensor:\n",
    "        model_len = num_members\n",
    "        if batch_size % model_len != 0:\n",
    "            raise ValueError(\n",
    "                \"To use SymbolicModel's ensemble propagation, the batch size must \"\n",
    "                \"be a multiple of the number of models in the ensemble.\"\n",
    "            )\n",
    "        # rng causes segmentation fault, see https://github.com/pytorch/pytorch/issues/44714\n",
    "        return torch.randperm(batch_size, device=self.device)"
   ]
  },
  {
   "cell_type": "code",
   "execution_count": 5,
   "id": "9748292f-29b1-4727-bbc3-d38a6a69e2b9",
   "metadata": {
    "tags": []
   },
   "outputs": [],
   "source": [
    "# Register the custom environment\n",
    "gym.envs.registration.register(\n",
    "    id='Simple1DMDP-v0',\n",
    "    entry_point=Simple1DMDP\n",
    ")\n",
    "\n",
    "\n",
    "env = gym.make('Simple1DMDP-v0')"
   ]
  },
  {
   "cell_type": "code",
   "execution_count": 6,
   "id": "60d27669-573d-4891-91cf-b6730febed6b",
   "metadata": {
    "tags": []
   },
   "outputs": [],
   "source": [
    "seed = 0\n",
    "env.reset()\n",
    "rng = np.random.default_rng(seed=seed)\n",
    "generator = torch.Generator(device=device)\n",
    "generator.manual_seed(seed)\n",
    "obs_shape = env.observation_space.shape\n",
    "act_shape = env.action_space.shape"
   ]
  },
  {
   "cell_type": "code",
   "execution_count": 7,
   "id": "f8de040d-2a44-4738-8483-8d994882c525",
   "metadata": {
    "tags": []
   },
   "outputs": [],
   "source": [
    "# Neural Network\n",
    "\n",
    "trial_length = 500\n",
    "num_trials = 10\n",
    "ensemble_size = 7\n",
    "\n",
    "# Everything with \"???\" indicates an option with a missing value.\n",
    "# Our utility functions will fill in these details using the \n",
    "# environment information\n",
    "cfg_dict = {\n",
    "    # dynamics model configuration\n",
    "    \"dynamics_model\": {\n",
    "        \"_target_\": \"mbrl.models.GaussianMLP\",\n",
    "        \"device\": device,\n",
    "        \"num_layers\": 4,\n",
    "        \"ensemble_size\": ensemble_size,\n",
    "        \"hid_size\": 200,\n",
    "        \"in_size\": \"???\",\n",
    "        \"out_size\": \"???\",\n",
    "        \"deterministic\": True,\n",
    "        \"propagation_method\": \"fixed_model\",\n",
    "        # can also configure activation function for GaussianMLP\n",
    "        \"activation_fn_cfg\": {\n",
    "            \"_target_\": \"torch.nn.SiLU\"}\n",
    "    },\n",
    "    # options for training the dynamics model\n",
    "    \"algorithm\": {\n",
    "        \"learned_rewards\": True,\n",
    "        \"target_is_delta\": True,\n",
    "        \"normalize\": True,\n",
    "    },\n",
    "    # these are experiment specific options\n",
    "    \"overrides\": {\n",
    "        \"trial_length\": trial_length,\n",
    "        \"num_steps\": num_trials * trial_length,\n",
    "        \"model_batch_size\": 256,\n",
    "        \"validation_ratio\": 0.05\n",
    "    }\n",
    "}\n",
    "cfg = omegaconf.OmegaConf.create(cfg_dict)"
   ]
  },
  {
   "cell_type": "code",
   "execution_count": 8,
   "id": "642f9b2c-3c79-45ff-9f84-a327f817bf3f",
   "metadata": {
    "tags": []
   },
   "outputs": [],
   "source": [
    "# Symbolic Regression\n",
    "\n",
    "trial_length = 500\n",
    "num_trials = 10\n",
    "ensemble_size = 1\n",
    "\n",
    "device = \"cpu\"\n",
    "\n",
    "# Everything with \"???\" indicates an option with a missing value.\n",
    "# Our utility functions will fill in these details using the \n",
    "# environment information\n",
    "cfg_dict = {\n",
    "    # dynamics model configuration\n",
    "    \"dynamics_model\": {\n",
    "        \"_target_\": \"__main__.SymbolicModel\",\n",
    "        \"symbols\": \"add,sub,mul,div,constant,variable,sin,exp,abs\",\n",
    "        \"population_size\": 5000,\n",
    "        \"generations\": 10000,\n",
    "        \"max_length\": 50,\n",
    "        \"max_depth\": 10,\n",
    "        \"in_size\": \"???\",\n",
    "        \"out_size\": \"???\",\n",
    "        \"device\": device,\n",
    "        \"deterministic\": True,\n",
    "        \"propagation_method\": None,\n",
    "        \"num_members\": ensemble_size\n",
    "    },\n",
    "    # options for training the dynamics model\n",
    "    \"algorithm\": {\n",
    "        \"learned_rewards\": True,\n",
    "        \"target_is_delta\": True,\n",
    "        \"normalize\": True,\n",
    "    },\n",
    "    # these are experiment specific options\n",
    "    \"overrides\": {\n",
    "        \"trial_length\": trial_length,\n",
    "        \"num_steps\": num_trials * trial_length,\n",
    "        \"model_batch_size\": 1,\n",
    "        \"validation_ratio\": 0.05\n",
    "    }\n",
    "}\n",
    "cfg = omegaconf.OmegaConf.create(cfg_dict)"
   ]
  },
  {
   "cell_type": "code",
   "execution_count": 25,
   "id": "0be85b89-bfd6-4474-871d-5dfcd756f35f",
   "metadata": {
    "tags": []
   },
   "outputs": [],
   "source": [
    "# Create a 1-D dynamics model for this environment\n",
    "dynamics_model = common_util.create_one_dim_tr_model(cfg, obs_shape, act_shape)\n",
    "dynamics_model.set_elite([0])\n",
    "\n",
    "# Create a gym-like environment to encapsulate the model\n",
    "model_env = models.ModelEnv(env, dynamics_model, term_fn, reward_fn, generator=generator)"
   ]
  },
  {
   "cell_type": "code",
   "execution_count": 26,
   "id": "672ae78a-7b4d-42d9-9248-b72de32915fd",
   "metadata": {
    "tags": []
   },
   "outputs": [],
   "source": [
    "replay_buffer = common_util.create_replay_buffer(cfg, obs_shape, act_shape, rng=rng)"
   ]
  },
  {
   "cell_type": "code",
   "execution_count": 27,
   "id": "e456e130-9bf0-41c2-aa89-24983822ed5c",
   "metadata": {
    "tags": []
   },
   "outputs": [
    {
     "name": "stdout",
     "output_type": "stream",
     "text": [
      "# samples stored 500\n"
     ]
    }
   ],
   "source": [
    "common_util.rollout_agent_trajectories(\n",
    "    env,\n",
    "    trial_length, # initial exploration steps\n",
    "    planning.RandomAgent(env),\n",
    "    {}, # keyword arguments to pass to agent.act()\n",
    "    replay_buffer=replay_buffer,\n",
    "    trial_length=trial_length\n",
    ")\n",
    "\n",
    "print(\"# samples stored\", replay_buffer.num_stored)"
   ]
  },
  {
   "cell_type": "code",
   "execution_count": 28,
   "id": "f16bc442-e92a-4660-a4e3-f4d377093d4a",
   "metadata": {
    "tags": []
   },
   "outputs": [],
   "source": [
    "agent_cfg = omegaconf.OmegaConf.create({\n",
    "    # this class evaluates many trajectories and picks the best one\n",
    "    \"_target_\": \"mbrl.planning.TrajectoryOptimizerAgent\",\n",
    "    \"planning_horizon\": 3,\n",
    "    \"replan_freq\": 1,\n",
    "    \"verbose\": False,\n",
    "    \"action_lb\": \"???\",\n",
    "    \"action_ub\": \"???\",\n",
    "    # this is the optimizer to generate and choose a trajectory\n",
    "    \"optimizer_cfg\": {\n",
    "        \"_target_\": \"mbrl.planning.CEMOptimizer\",\n",
    "        \"num_iterations\": 10,\n",
    "        \"elite_ratio\": 0.1,\n",
    "        \"population_size\": 999,\n",
    "        \"alpha\": 0.1,\n",
    "        \"device\": device,\n",
    "        \"lower_bound\": \"???\",\n",
    "        \"upper_bound\": \"???\",\n",
    "        \"return_mean_elites\": True,\n",
    "        \"clipped_normal\": True\n",
    "    }\n",
    "})\n",
    "\n",
    "agent = planning.create_trajectory_optim_agent_for_model(\n",
    "    model_env,\n",
    "    agent_cfg,\n",
    "    num_particles=20\n",
    ")"
   ]
  },
  {
   "cell_type": "code",
   "execution_count": 29,
   "id": "9008cea9-6472-4a14-935e-5acaba27a3f6",
   "metadata": {
    "tags": []
   },
   "outputs": [],
   "source": [
    "train_losses = []\n",
    "val_scores = []\n",
    "\n",
    "def train_callback(_model, _total_calls, _epoch, tr_loss, val_score, _best_val):\n",
    "    train_losses.append(tr_loss)\n",
    "    val_scores.append(val_score.mean().item())"
   ]
  },
  {
   "cell_type": "code",
   "execution_count": 30,
   "id": "d5a25626-172d-4f15-abae-db7ee1ee21a5",
   "metadata": {
    "tags": []
   },
   "outputs": [],
   "source": [
    "class SymbolicModelTrainer:\n",
    "    def __init__(self, dynamics_model: SymbolicModel):\n",
    "        self.dynamics_model = dynamics_model\n",
    "    \n",
    "    #def train(self, X_train, y_train, X_val, y_val):\n",
    "    def train(self, dataset_train, dataset_val):\n",
    "        X_train = np.hstack((dataset_train.transitions.obs, dataset_train.transitions.act))\n",
    "        X_val = np.hstack((dataset_val.transitions.obs, dataset_val.transitions.act))\n",
    "        y_train_reward = dataset_train.transitions.rewards\n",
    "        y_val_reward = dataset_val.transitions.rewards\n",
    "        y_train_next_obs = dataset_train.transitions.next_obs\n",
    "        y_val_next_obs = dataset_val.transitions.next_obs\n",
    "        # reshuffling\n",
    "        p_train = np.random.permutation(len(X_train))\n",
    "        reg_next_obs = self.dynamics_model.model.reg_next_obs\n",
    "        reg_next_obs.fit(X_train[p_train], y_train_next_obs[p_train])\n",
    "        reg_reward = self.dynamics_model.model.reg_reward\n",
    "        #reg_reward.fit(reg_next_obs.predict(X_train[p_train]), y_train_reward[p_train])\n",
    "        reg_reward.fit(y_train_next_obs[p_train], y_train_reward[p_train])\n",
    "        \n",
    "        print(reg_reward.get_model_string(reg_reward.model_))\n",
    "        print(reg_next_obs.get_model_string(reg_next_obs.model_))\n",
    "        return reg_reward.score(y_train_next_obs, y_train_reward), reg_reward.score(y_val_next_obs, y_val_reward)"
   ]
  },
  {
   "cell_type": "code",
   "execution_count": 42,
   "id": "24b7dd8d-d18e-42d8-89b9-b21b173fe757",
   "metadata": {
    "tags": []
   },
   "outputs": [
    {
     "name": "stdout",
     "output_type": "stream",
     "text": [
      "0\n",
      "485 25\n",
      "(0.000 + (1.000 * (((((0.001 * X1) * (6.607 * X1)) / (-1025.812)) + abs((-0.034))) * (((((-0.715) * X1) - 56.716) + ((0.715 * X1) - (-56.716))) - (((((-0.000) * X1) - 29.638) - (((-0.001) * X1) * ((-4.728) * X1))) * (sin((((-6.283) * X1) - 4.712)) * exp(abs(((-0.333) * X1)))))))))\n",
      "((1.000 * X2) - ((-1.000) * X1))\n",
      "1.0 1.0\n"
     ]
    }
   ],
   "source": [
    "# Create a trainer for the model\n",
    "# model_trainer = models.ModelTrainer(dynamics_model, optim_lr=7.5e-4, weight_decay=3e-5)\n",
    "model_trainer = SymbolicModelTrainer(dynamics_model)\n",
    "added_data = []\n",
    "# Main PETS loop\n",
    "all_rewards = [0]\n",
    "for trial in range(1):\n",
    "    print(trial)\n",
    "    obs, _ = env.reset()    \n",
    "    agent.reset()\n",
    "    \n",
    "    terminated = False\n",
    "    total_reward = 0.0\n",
    "    steps_trial = 0\n",
    "    while not terminated:\n",
    "        # --------------- Model Training -----------------\n",
    "        if steps_trial == 0:\n",
    "            dynamics_model.update_normalizer(replay_buffer.get_all())  # update normalizer stats\n",
    "                        \n",
    "            dataset_train, dataset_val = common_util.get_basic_buffer_iterators(\n",
    "                replay_buffer,\n",
    "                batch_size=cfg.overrides.model_batch_size,\n",
    "                val_ratio=cfg.overrides.validation_ratio,\n",
    "                ensemble_size=ensemble_size,\n",
    "                shuffle_each_epoch=True,\n",
    "                bootstrap_permutes=False,  # build bootstrap dataset using sampling with replacement\n",
    "            )\n",
    "            \n",
    "            print(dataset_train.num_stored, dataset_val.num_stored)\n",
    "            \n",
    "            #process and standardize the data\n",
    "            #X_train = np.hstack((dataset_train.transitions.obs, dataset_train.transitions.act))\n",
    "            #X_val = np.hstack((dataset_val.transitions.obs, dataset_val.transitions.act))\n",
    "            #y_train = dataset_train.transitions.rewards\n",
    "            #y_val = dataset_val.transitions.rewards\n",
    "            #mean_X_train = np.mean(X_train, axis = 0)\n",
    "            #std_X_train = np.std(X_train, axis = 0)\n",
    "            #mean_y_train = np.mean(y_train, axis = 0)\n",
    "            #std_y_train = np.std(y_train, axis = 0)\n",
    "            #X_train_norm = (X_train - mean_X_train)/std_X_train\n",
    "            #y_train_norm = (y_train - mean_y_train)/std_y_train\n",
    "            #X_val_norm = (X_val - mean_X_train)/std_X_train\n",
    "            #y_val_norm = (y_val - mean_y_train)/std_y_train\n",
    "            \n",
    "            #dynamics_model.model.update_mean_std(mean_X_train, std_X_train, mean_y_train, std_y_train)\n",
    "            dynamics_model.model.update_mean_std(0, 1, 0, 1)\n",
    "            \n",
    "            \n",
    "            \n",
    "                \n",
    "            #model_trainer.train(\n",
    "            #    dataset_train, \n",
    "            #    dataset_val=dataset_val, \n",
    "            #   num_epochs=2000, \n",
    "            #    patience=25, \n",
    "            #    callback=train_callback,\n",
    "            #    silent=True)\n",
    "            \n",
    "            #train_r2, val_r2 = model_trainer.train(X_train_norm, y_train_norm, X_val_norm, y_val_norm)\n",
    "            train_r2, val_r2 = model_trainer.train(dataset_train, dataset_val)\n",
    "            print(train_r2, val_r2)\n",
    "            \n",
    "            \n",
    "\n",
    "        # --- Doing env step using the agent and adding to model dataset ---\n",
    "        next_obs, reward, terminated, truncated, _ = common_util.step_env_and_add_to_buffer(\n",
    "            env, obs, agent, {}, replay_buffer)\n",
    "        \n",
    "        added_data.append([next_obs, reward, terminated, truncated])\n",
    "                \n",
    "        obs = next_obs\n",
    "        total_reward += reward\n",
    "        steps_trial += 1\n",
    "        \n",
    "        if steps_trial == trial_length:\n",
    "            break\n",
    "    \n",
    "    all_rewards.append(total_reward)"
   ]
  },
  {
   "cell_type": "code",
   "execution_count": 43,
   "id": "55c7016f-cecf-4db8-9436-86570939acb5",
   "metadata": {
    "tags": []
   },
   "outputs": [],
   "source": [
    "num_data = 999\n",
    "data = torch.zeros((num_data,2))\n",
    "data[:,0] = torch.linspace(-10,10, num_data)"
   ]
  },
  {
   "cell_type": "code",
   "execution_count": 44,
   "id": "a5c0c840-bce8-4946-b67f-681d7592f4e0",
   "metadata": {
    "tags": []
   },
   "outputs": [
    {
     "name": "stdout",
     "output_type": "stream",
     "text": [
      "(0.000 + (1.000 * (((((0.001 * X1) * (6.607 * X1)) / (-1025.812)) + abs((-0.034))) * (((((-0.715) * X1) - 56.716) + ((0.715 * X1) - (-56.716))) - (((((-0.000) * X1) - 29.638) - (((-0.001) * X1) * ((-4.728) * X1))) * (sin((((-6.283) * X1) - 4.712)) * exp(abs(((-0.333) * X1)))))))))\n"
     ]
    }
   ],
   "source": [
    "print(dynamics_model.model.reg_reward.get_model_string(dynamics_model.model.reg_reward.model_))"
   ]
  },
  {
   "cell_type": "code",
   "execution_count": 45,
   "id": "4837e1bf-2794-4b4a-a821-db9dd9b07f54",
   "metadata": {
    "tags": []
   },
   "outputs": [],
   "source": [
    "#reward = dynamics_model.model.std_y*dynamics_model.model.reg.predict((data - dynamics_model.model.mean_X)/dynamics_model.model.std_X) + dynamics_model.model.mean_y\n",
    "reward = dynamics_model.model.reg_reward.predict(data)"
   ]
  },
  {
   "cell_type": "code",
   "execution_count": 35,
   "id": "1c7da44c-fec1-4def-91cd-640b545e6a96",
   "metadata": {
    "tags": []
   },
   "outputs": [],
   "source": [
    "#with torch.no_grad():\n",
    "#    reward = dynamics_model.model(data.to(\"cuda\"), propagation_indices=np.arange(num_data))[0][:,1]"
   ]
  },
  {
   "cell_type": "code",
   "execution_count": 46,
   "id": "4564e541-ae30-4280-a1e2-4410da64da0e",
   "metadata": {
    "tags": []
   },
   "outputs": [
    {
     "data": {
      "image/png": "[encoded data removed]",
      "text/plain": [
       "<Figure size 640x480 with 1 Axes>"
      ]
     },
     "metadata": {},
     "output_type": "display_data"
    }
   ],
   "source": [
    "#plt.plot(data[:,0], reward.to(\"cpu\"), label=\"Predicted reward\")\n",
    "plt.plot(data[:,0], reward, label=\"Predicted reward\")\n",
    "plt.plot(data[:,0], reward_fn(data[:,1], data[:,0]), label=\"True reward\")\n",
    "plt.legend()\n",
    "plt.show()"
   ]
  },
  {
   "cell_type": "code",
   "execution_count": 49,
   "id": "f7c1e833-642f-44b9-be85-15dfae2aa579",
   "metadata": {
    "tags": []
   },
   "outputs": [
    {
     "data": {
      "text/plain": [
       "[[tensor([0.9973]), tensor([1.3941]), False, array([False])],\n",
       " [tensor([1.9869]), tensor([1.9327]), False, array([False])],\n",
       " [tensor([2.9730]), tensor([2.6554]), False, array([False])],\n",
       " [tensor([3.9522]), tensor([3.5666]), False, array([False])],\n",
       " [tensor([4.9130]), tensor([4.3940]), False, array([False])],\n",
       " [tensor([5.9121]), tensor([6.1099]), False, array([False])],\n",
       " [tensor([6.8866]), tensor([7.5159]), False, array([False])],\n",
       " [tensor([7.8588]), tensor([8.6715]), False, array([False])],\n",
       " [tensor([8.8164]), tensor([7.6502]), False, array([False])],\n",
       " [tensor([9.8132]), tensor([10.1797]), True, array([False])]]"
      ]
     },
     "execution_count": 49,
     "metadata": {},
     "output_type": "execute_result"
    }
   ],
   "source": [
    "added_data"
   ]
  }
 ],
 "metadata": {
  "kernelspec": {
   "display_name": "Python 3 (ipykernel)",
   "language": "python",
   "name": "python3"
  },
  "language_info": {
   "codemirror_mode": {
    "name": "ipython",
    "version": 3
   },
   "file_extension": ".py",
   "mimetype": "text/x-python",
   "name": "python",
   "nbconvert_exporter": "python",
   "pygments_lexer": "ipython3",
   "version": "3.10.2"
  }
 },
 "nbformat": 4,
 "nbformat_minor": 5
}
